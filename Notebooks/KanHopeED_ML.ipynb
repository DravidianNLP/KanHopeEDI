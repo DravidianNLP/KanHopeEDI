{
  "nbformat": 4,
  "nbformat_minor": 0,
  "metadata": {
    "colab": {
      "name": "KanHopeED_ML.ipynb",
      "provenance": []
    },
    "kernelspec": {
      "name": "python3",
      "display_name": "Python 3"
    }
  },
  "cells": [
    {
      "cell_type": "code",
      "metadata": {
        "id": "_-gxqVeknyOI"
      },
      "source": [
        "import numpy as np\n",
        "import pandas as pd\n",
        "from sklearn.model_selection import train_test_split\n",
        "from sklearn.feature_extraction.text import TfidfVectorizer\n",
        "import re"
      ],
      "execution_count": null,
      "outputs": []
    },
    {
      "cell_type": "code",
      "metadata": {
        "id": "gTQgxm9-de1i"
      },
      "source": [
        "!pip install emoji"
      ],
      "execution_count": null,
      "outputs": []
    },
    {
      "cell_type": "code",
      "metadata": {
        "id": "QsL2dA-1qvtK"
      },
      "source": [
        "hope = pd.read_csv('/content/preprocessed_KanHopeEDI.csv', delimiter=',',header=None, names=['class','sentence']) "
      ],
      "execution_count": null,
      "outputs": []
    },
    {
      "cell_type": "code",
      "metadata": {
        "colab": {
          "base_uri": "https://localhost:8080/",
          "height": 420
        },
        "id": "kAeMx1-i236t",
        "outputId": "7b840a9a-b696-4718-a1c1-43e3baca6356"
      },
      "source": [
        "hope"
      ],
      "execution_count": null,
      "outputs": [
        {
          "output_type": "execute_result",
          "data": {
            "text/html": [
              "<div>\n",
              "<style scoped>\n",
              "    .dataframe tbody tr th:only-of-type {\n",
              "        vertical-align: middle;\n",
              "    }\n",
              "\n",
              "    .dataframe tbody tr th {\n",
              "        vertical-align: top;\n",
              "    }\n",
              "\n",
              "    .dataframe thead th {\n",
              "        text-align: right;\n",
              "    }\n",
              "</style>\n",
              "<table border=\"1\" class=\"dataframe\">\n",
              "  <thead>\n",
              "    <tr style=\"text-align: right;\">\n",
              "      <th></th>\n",
              "      <th>class</th>\n",
              "      <th>sentence</th>\n",
              "    </tr>\n",
              "  </thead>\n",
              "  <tbody>\n",
              "    <tr>\n",
              "      <th>NaN</th>\n",
              "      <td>label</td>\n",
              "      <td>sentence</td>\n",
              "    </tr>\n",
              "    <tr>\n",
              "      <th>0.0</th>\n",
              "      <td>Hope</td>\n",
              "      <td>Bro super</td>\n",
              "    </tr>\n",
              "    <tr>\n",
              "      <th>1.0</th>\n",
              "      <td>Not-Hope</td>\n",
              "      <td>Kakka is ossm lol</td>\n",
              "    </tr>\n",
              "    <tr>\n",
              "      <th>2.0</th>\n",
              "      <td>Hope</td>\n",
              "      <td>anna super anna</td>\n",
              "    </tr>\n",
              "    <tr>\n",
              "      <th>3.0</th>\n",
              "      <td>Not-Hope</td>\n",
              "      <td>Super bro yalka  Tik Tok stars full rost</td>\n",
              "    </tr>\n",
              "    <tr>\n",
              "      <th>...</th>\n",
              "      <td>...</td>\n",
              "      <td>...</td>\n",
              "    </tr>\n",
              "    <tr>\n",
              "      <th>7567.0</th>\n",
              "      <td>Not-Hope</td>\n",
              "      <td>manz game yes!</td>\n",
              "    </tr>\n",
              "    <tr>\n",
              "      <th>7568.0</th>\n",
              "      <td>not-Kannada</td>\n",
              "      <td>anup kulkarni... True</td>\n",
              "    </tr>\n",
              "    <tr>\n",
              "      <th>7569.0</th>\n",
              "      <td>Hope</td>\n",
              "      <td>ಇದು ಚರಿತ್ರೆ ಸೃಷ್ಟಿಸೊ ಅವತಾರಾ..........</td>\n",
              "    </tr>\n",
              "    <tr>\n",
              "      <th>7570.0</th>\n",
              "      <td>Hope</td>\n",
              "      <td>Idu cheritre shrustiso avatara</td>\n",
              "    </tr>\n",
              "    <tr>\n",
              "      <th>7571.0</th>\n",
              "      <td>Not-Hope</td>\n",
              "      <td>Yen song guru...benki ASN</td>\n",
              "    </tr>\n",
              "  </tbody>\n",
              "</table>\n",
              "<p>7573 rows × 2 columns</p>\n",
              "</div>"
            ],
            "text/plain": [
              "              class                                  sentence\n",
              "NaN           label                                  sentence\n",
              "0.0            Hope                                 Bro super\n",
              "1.0        Not-Hope                         Kakka is ossm lol\n",
              "2.0            Hope                           anna super anna\n",
              "3.0        Not-Hope  Super bro yalka  Tik Tok stars full rost\n",
              "...             ...                                       ...\n",
              "7567.0     Not-Hope                            manz game yes!\n",
              "7568.0  not-Kannada                     anup kulkarni... True\n",
              "7569.0         Hope     ಇದು ಚರಿತ್ರೆ ಸೃಷ್ಟಿಸೊ ಅವತಾರಾ..........\n",
              "7570.0         Hope            Idu cheritre shrustiso avatara\n",
              "7571.0     Not-Hope                 Yen song guru...benki ASN\n",
              "\n",
              "[7573 rows x 2 columns]"
            ]
          },
          "metadata": {
            "tags": []
          },
          "execution_count": 3
        }
      ]
    },
    {
      "cell_type": "code",
      "metadata": {
        "id": "59i4ChBtAr1i"
      },
      "source": [
        "!pip install ecco\n",
        "import warnings\n",
        "warnings.filterwarnings('ignore')"
      ],
      "execution_count": null,
      "outputs": []
    },
    {
      "cell_type": "code",
      "metadata": {
        "id": "Ickt9uMeCLY1"
      },
      "source": [
        "!pip install -U tensorboard"
      ],
      "execution_count": null,
      "outputs": []
    },
    {
      "cell_type": "code",
      "metadata": {
        "id": "tQG-dkGQWEs9"
      },
      "source": [
        "#text = re.sub(r'^https?:\\/\\/.*[\\r\\n]*', '', text, flags=re.MULTILINE)\n",
        "import emoji\n",
        " \n",
        "def preprocessing(df):\n",
        "    #for text in df['sentence']:\n",
        "    df['sentence'] = df['sentence'].str.replace(r'^https?:\\/\\/.*[\\r\\n]*', 'URL')\n",
        "    #    text = re.sub(r'^https?:\\/\\/.*[\\r\\n]*', '', text)\n",
        "    df['sentence'] = df['sentence'].str.replace(r\"[+/#@&*$%:0-9]\",'')\n",
        "    #df['sentence'] = df['sentence']\n",
        "    for i in range(len(df['sentence'])):\n",
        "        df['sentence'][i] = emoji.demojize(df['sentence'][i], delimiters=(\" \", \" \"))\n",
        "    #    text = re.sub(r\"[+/#@&*$%:0-9]\",'',text)\n",
        "    print(df)"
      ],
      "execution_count": null,
      "outputs": []
    },
    {
      "cell_type": "code",
      "metadata": {
        "colab": {
          "base_uri": "https://localhost:8080/"
        },
        "id": "wmsKDdseXiQQ",
        "outputId": "5380c948-0aca-426a-a1b0-2485201c9f3f"
      },
      "source": [
        "preprocessing(hope)"
      ],
      "execution_count": null,
      "outputs": [
        {
          "output_type": "stream",
          "text": [
            "            class                                           sentence\n",
            "0            Hope                                          Bro super\n",
            "1        Not-Hope                                  Kakka is ossm lol\n",
            "2            Hope                                    anna super anna\n",
            "3        Not-Hope           Super bro yalka  Tik Tok stars full rost\n",
            "4        Not-Hope   rolling_on_the_floor_laughing  rolling_on_the...\n",
            "...           ...                                                ...\n",
            "7567     Not-Hope                                     manz game yes!\n",
            "7568  not-Kannada                              anup kulkarni... True\n",
            "7569         Hope              ಇದು ಚರಿತ್ರೆ ಸೃಷ್ಟಿಸೊ ಅವತಾರಾ..........\n",
            "7570         Hope                     Idu cheritre shrustiso avatara\n",
            "7571     Not-Hope                          Yen song guru...benki ASN\n",
            "\n",
            "[7572 rows x 2 columns]\n"
          ],
          "name": "stdout"
        }
      ]
    },
    {
      "cell_type": "code",
      "metadata": {
        "colab": {
          "base_uri": "https://localhost:8080/",
          "height": 359
        },
        "id": "biJSLvv4y2Q1",
        "outputId": "2b5e6644-da70-4912-93d4-6532737aea3f"
      },
      "source": [
        "hope.head(10)"
      ],
      "execution_count": null,
      "outputs": [
        {
          "output_type": "execute_result",
          "data": {
            "text/html": [
              "<div>\n",
              "<style scoped>\n",
              "    .dataframe tbody tr th:only-of-type {\n",
              "        vertical-align: middle;\n",
              "    }\n",
              "\n",
              "    .dataframe tbody tr th {\n",
              "        vertical-align: top;\n",
              "    }\n",
              "\n",
              "    .dataframe thead th {\n",
              "        text-align: right;\n",
              "    }\n",
              "</style>\n",
              "<table border=\"1\" class=\"dataframe\">\n",
              "  <thead>\n",
              "    <tr style=\"text-align: right;\">\n",
              "      <th></th>\n",
              "      <th>class</th>\n",
              "      <th>sentence</th>\n",
              "    </tr>\n",
              "  </thead>\n",
              "  <tbody>\n",
              "    <tr>\n",
              "      <th>0</th>\n",
              "      <td>Hope</td>\n",
              "      <td>Bro super</td>\n",
              "    </tr>\n",
              "    <tr>\n",
              "      <th>1</th>\n",
              "      <td>Not-Hope</td>\n",
              "      <td>Kakka is ossm lol</td>\n",
              "    </tr>\n",
              "    <tr>\n",
              "      <th>2</th>\n",
              "      <td>Hope</td>\n",
              "      <td>anna super anna</td>\n",
              "    </tr>\n",
              "    <tr>\n",
              "      <th>3</th>\n",
              "      <td>Not-Hope</td>\n",
              "      <td>Super bro yalka  Tik Tok stars full rost</td>\n",
              "    </tr>\n",
              "    <tr>\n",
              "      <th>4</th>\n",
              "      <td>Not-Hope</td>\n",
              "      <td>rolling_on_the_floor_laughing  rolling_on_the...</td>\n",
              "    </tr>\n",
              "    <tr>\n",
              "      <th>5</th>\n",
              "      <td>Not-Hope</td>\n",
              "      <td>ಈ ದರಿದ್ರ ಬಡ್ಡ್ಯತವ tiktok ನೋಡಿಯೆ ನಮ್ಮ ಮೋದಿಯವರು ...</td>\n",
              "    </tr>\n",
              "    <tr>\n",
              "      <th>6</th>\n",
              "      <td>Not-Hope</td>\n",
              "      <td>ಸೂಪರ್ ಗುರು ಲೋವ್ ಯು</td>\n",
              "    </tr>\n",
              "    <tr>\n",
              "      <th>7</th>\n",
              "      <td>not-Kannada</td>\n",
              "      <td>tik tok  China</td>\n",
              "    </tr>\n",
              "    <tr>\n",
              "      <th>8</th>\n",
              "      <td>Hope</td>\n",
              "      <td>Guru super guru ninu</td>\n",
              "    </tr>\n",
              "    <tr>\n",
              "      <th>9</th>\n",
              "      <td>Hope</td>\n",
              "      <td>Correct agi helidera super  rolling_on_the_flo...</td>\n",
              "    </tr>\n",
              "  </tbody>\n",
              "</table>\n",
              "</div>"
            ],
            "text/plain": [
              "         class                                           sentence\n",
              "0         Hope                                          Bro super\n",
              "1     Not-Hope                                  Kakka is ossm lol\n",
              "2         Hope                                    anna super anna\n",
              "3     Not-Hope           Super bro yalka  Tik Tok stars full rost\n",
              "4     Not-Hope   rolling_on_the_floor_laughing  rolling_on_the...\n",
              "5     Not-Hope  ಈ ದರಿದ್ರ ಬಡ್ಡ್ಯತವ tiktok ನೋಡಿಯೆ ನಮ್ಮ ಮೋದಿಯವರು ...\n",
              "6     Not-Hope                                 ಸೂಪರ್ ಗುರು ಲೋವ್ ಯು\n",
              "7  not-Kannada                                     tik tok  China\n",
              "8         Hope                               Guru super guru ninu\n",
              "9         Hope  Correct agi helidera super  rolling_on_the_flo..."
            ]
          },
          "metadata": {
            "tags": []
          },
          "execution_count": 59
        }
      ]
    },
    {
      "cell_type": "code",
      "metadata": {
        "id": "YDkijE9Id0TF"
      },
      "source": [
        "hope.to_csv('demoji_KanHopeEDI.csv')"
      ],
      "execution_count": null,
      "outputs": []
    },
    {
      "cell_type": "code",
      "metadata": {
        "colab": {
          "base_uri": "https://localhost:8080/",
          "height": 221
        },
        "id": "FDVsgNRd17S-",
        "outputId": "78660591-43b9-41e4-80c9-a601876cbfb2"
      },
      "source": [
        "hope_new = hope[:6815]\n",
        "print(hope_new.shape)\n",
        "hope_new.head()"
      ],
      "execution_count": null,
      "outputs": [
        {
          "output_type": "stream",
          "text": [
            "(6176, 2)\n"
          ],
          "name": "stdout"
        },
        {
          "output_type": "execute_result",
          "data": {
            "text/html": [
              "<div>\n",
              "<style scoped>\n",
              "    .dataframe tbody tr th:only-of-type {\n",
              "        vertical-align: middle;\n",
              "    }\n",
              "\n",
              "    .dataframe tbody tr th {\n",
              "        vertical-align: top;\n",
              "    }\n",
              "\n",
              "    .dataframe thead th {\n",
              "        text-align: right;\n",
              "    }\n",
              "</style>\n",
              "<table border=\"1\" class=\"dataframe\">\n",
              "  <thead>\n",
              "    <tr style=\"text-align: right;\">\n",
              "      <th></th>\n",
              "      <th>class</th>\n",
              "      <th>sentence</th>\n",
              "    </tr>\n",
              "  </thead>\n",
              "  <tbody>\n",
              "    <tr>\n",
              "      <th>0</th>\n",
              "      <td>Hope</td>\n",
              "      <td>Bro super</td>\n",
              "    </tr>\n",
              "    <tr>\n",
              "      <th>1</th>\n",
              "      <td>Not-Hope</td>\n",
              "      <td>Kakka is ossm lol</td>\n",
              "    </tr>\n",
              "    <tr>\n",
              "      <th>2</th>\n",
              "      <td>Hope</td>\n",
              "      <td>anna super anna</td>\n",
              "    </tr>\n",
              "    <tr>\n",
              "      <th>3</th>\n",
              "      <td>Not-Hope</td>\n",
              "      <td>Super bro yalka  Tik Tok stars full rost</td>\n",
              "    </tr>\n",
              "    <tr>\n",
              "      <th>4</th>\n",
              "      <td>Not-Hope</td>\n",
              "      <td>rolling_on_the_floor_laughing  rolling_on_the...</td>\n",
              "    </tr>\n",
              "  </tbody>\n",
              "</table>\n",
              "</div>"
            ],
            "text/plain": [
              "      class                                           sentence\n",
              "0      Hope                                          Bro super\n",
              "1  Not-Hope                                  Kakka is ossm lol\n",
              "2      Hope                                    anna super anna\n",
              "3  Not-Hope           Super bro yalka  Tik Tok stars full rost\n",
              "4  Not-Hope   rolling_on_the_floor_laughing  rolling_on_the..."
            ]
          },
          "metadata": {
            "tags": []
          },
          "execution_count": 15
        }
      ]
    },
    {
      "cell_type": "code",
      "metadata": {
        "id": "molEgqT03dTu"
      },
      "source": [
        "index_names = hope[hope['class'] == 'not-Kannada'].index\n",
        "hope = hope.drop(index_names, inplace=False)"
      ],
      "execution_count": null,
      "outputs": []
    },
    {
      "cell_type": "code",
      "metadata": {
        "colab": {
          "base_uri": "https://localhost:8080/"
        },
        "id": "uAOELxUp362b",
        "outputId": "f01cec91-7c5d-42ce-b34a-fc510531be8f"
      },
      "source": [
        "hope['class'].value_counts()"
      ],
      "execution_count": null,
      "outputs": [
        {
          "output_type": "execute_result",
          "data": {
            "text/plain": [
              "Not-Hope    4064\n",
              "Hope        2112\n",
              "Name: class, dtype: int64"
            ]
          },
          "metadata": {
            "tags": []
          },
          "execution_count": 61
        }
      ]
    },
    {
      "cell_type": "code",
      "metadata": {
        "id": "3Z-E-lbG1clC"
      },
      "source": [
        "labels = hope['class'].values\n",
        "X_train, X_test, y_train, y_test = train_test_split(hope['sentence'], labels, test_size=0.2, random_state=42)\n",
        "X_test, X_val, y_test, y_val = train_test_split(hope['sentence'], labels, test_size=0.5, random_state=42)"
      ],
      "execution_count": null,
      "outputs": []
    },
    {
      "cell_type": "code",
      "metadata": {
        "id": "y_ZhojH5fJYL"
      },
      "source": [
        "train = pd.DataFrame()\n",
        "val = pd.DataFrame()\n",
        "test = pd.DataFrame()\n",
        "train['sentence'] = X_train\n",
        "train['class'] = y_train\n",
        "test['class'] = X_test\n",
        "test['sentence'] = y_test\n",
        "val['class'] = X_val\n",
        "val['sentence'] = y_val"
      ],
      "execution_count": null,
      "outputs": []
    },
    {
      "cell_type": "code",
      "metadata": {
        "id": "kvIGh8Nyfl6i"
      },
      "source": [
        "train.to_csv('train_hope.csv', columns=['sentence','class'])\n",
        "test.to_csv('test_hope.csv', columns=['sentence','class'])\n",
        "val.to_csv('val_hope.csv', columns=['sentence','class'])"
      ],
      "execution_count": null,
      "outputs": []
    },
    {
      "cell_type": "code",
      "metadata": {
        "colab": {
          "base_uri": "https://localhost:8080/",
          "height": 359
        },
        "id": "uFZfeveXxnkm",
        "outputId": "144bf8ac-4c95-4ea1-e5ba-14845ef16e81"
      },
      "source": [
        "train = pd.read_csv('/content/multichannelhope.csv')\n",
        "#train['labels']=LabelEncoder().fit_transform(train['class'])  \n",
        "train=train.drop(columns=['Unnamed: 0'])\n",
        "train.head(10)"
      ],
      "execution_count": null,
      "outputs": [
        {
          "output_type": "execute_result",
          "data": {
            "text/html": [
              "<div>\n",
              "<style scoped>\n",
              "    .dataframe tbody tr th:only-of-type {\n",
              "        vertical-align: middle;\n",
              "    }\n",
              "\n",
              "    .dataframe tbody tr th {\n",
              "        vertical-align: top;\n",
              "    }\n",
              "\n",
              "    .dataframe thead th {\n",
              "        text-align: right;\n",
              "    }\n",
              "</style>\n",
              "<table border=\"1\" class=\"dataframe\">\n",
              "  <thead>\n",
              "    <tr style=\"text-align: right;\">\n",
              "      <th></th>\n",
              "      <th>sentence</th>\n",
              "      <th>labels</th>\n",
              "      <th>translation</th>\n",
              "    </tr>\n",
              "  </thead>\n",
              "  <tbody>\n",
              "    <tr>\n",
              "      <th>0</th>\n",
              "      <td>YouTube subscriber at list lack kooda Ella yel...</td>\n",
              "      <td>1</td>\n",
              "      <td>YouTube Subscriber at Least Luck Reach Everywhere</td>\n",
              "    </tr>\n",
              "    <tr>\n",
              "      <th>1</th>\n",
              "      <td>Thu nem yogyathe ge maha vishnu hesaru ettu en...</td>\n",
              "      <td>1</td>\n",
              "      <td>Thu Name is worthy of the name of Maha Vishnu</td>\n",
              "    </tr>\n",
              "    <tr>\n",
              "      <th>2</th>\n",
              "      <td>Super togare teppa</td>\n",
              "      <td>1</td>\n",
              "      <td>Super sharp</td>\n",
              "    </tr>\n",
              "    <tr>\n",
              "      <th>3</th>\n",
              "      <td>Super song</td>\n",
              "      <td>1</td>\n",
              "      <td>Super song</td>\n",
              "    </tr>\n",
              "    <tr>\n",
              "      <th>4</th>\n",
              "      <td>Lyrics Artha adoru Kay kaal aadsrappa</td>\n",
              "      <td>1</td>\n",
              "      <td>Lyrics mean adoru gay foot dance</td>\n",
              "    </tr>\n",
              "    <tr>\n",
              "      <th>5</th>\n",
              "      <td>Anna e game yavudu</td>\n",
              "      <td>1</td>\n",
              "      <td>Anna What's this game</td>\n",
              "    </tr>\n",
              "    <tr>\n",
              "      <th>6</th>\n",
              "      <td>Nanu  weaks ninda huccha agbitidini boss song ...</td>\n",
              "      <td>0</td>\n",
              "      <td>I am crazy from Weeks to the Boss Song</td>\n",
              "    </tr>\n",
              "    <tr>\n",
              "      <th>7</th>\n",
              "      <td>ನಮ್ಮ ಕನ್ನಡ ಇಂಡಸ್ಟ್ರಿ ಯಾಕೆ ನಮ್ಮ ಕಲಾವಿದರನ್ನ ಕೈ ಬ...</td>\n",
              "      <td>0</td>\n",
              "      <td>Why our Kannada Industry ..</td>\n",
              "    </tr>\n",
              "    <tr>\n",
              "      <th>8</th>\n",
              "      <td>Ninyavaga hindi li nodidiyappa?? Swalpa link s...</td>\n",
              "      <td>1</td>\n",
              "      <td>When did you see Hindi li ?? Share a little li...</td>\n",
              "    </tr>\n",
              "    <tr>\n",
              "      <th>9</th>\n",
              "      <td>ಚಂದನ್ ಶೆಟ್ಟಿ ಟ್ರೊಲ್ ವಿಡಿಯೋ ನೀವು ನೋಡಿ ನೆಗಡ್ಡೆ ಇ...</td>\n",
              "      <td>1</td>\n",
              "      <td>Chandan Shetty Troll Video You See Negadre Idr...</td>\n",
              "    </tr>\n",
              "  </tbody>\n",
              "</table>\n",
              "</div>"
            ],
            "text/plain": [
              "                                            sentence  ...                                        translation\n",
              "0  YouTube subscriber at list lack kooda Ella yel...  ...  YouTube Subscriber at Least Luck Reach Everywhere\n",
              "1  Thu nem yogyathe ge maha vishnu hesaru ettu en...  ...      Thu Name is worthy of the name of Maha Vishnu\n",
              "2                                 Super togare teppa  ...                                        Super sharp\n",
              "3                                         Super song  ...                                         Super song\n",
              "4              Lyrics Artha adoru Kay kaal aadsrappa  ...                   Lyrics mean adoru gay foot dance\n",
              "5                                 Anna e game yavudu  ...                              Anna What's this game\n",
              "6  Nanu  weaks ninda huccha agbitidini boss song ...  ...             I am crazy from Weeks to the Boss Song\n",
              "7  ನಮ್ಮ ಕನ್ನಡ ಇಂಡಸ್ಟ್ರಿ ಯಾಕೆ ನಮ್ಮ ಕಲಾವಿದರನ್ನ ಕೈ ಬ...  ...                        Why our Kannada Industry ..\n",
              "8  Ninyavaga hindi li nodidiyappa?? Swalpa link s...  ...  When did you see Hindi li ?? Share a little li...\n",
              "9  ಚಂದನ್ ಶೆಟ್ಟಿ ಟ್ರೊಲ್ ವಿಡಿಯೋ ನೀವು ನೋಡಿ ನೆಗಡ್ಡೆ ಇ...  ...  Chandan Shetty Troll Video You See Negadre Idr...\n",
              "\n",
              "[10 rows x 3 columns]"
            ]
          },
          "metadata": {
            "tags": []
          },
          "execution_count": 75
        }
      ]
    },
    {
      "cell_type": "code",
      "metadata": {
        "colab": {
          "base_uri": "https://localhost:8080/",
          "height": 359
        },
        "id": "1rIHZqecxn8N",
        "outputId": "25b4c01c-1738-4bac-bc63-588459530d5a"
      },
      "source": [
        "test = pd.read_csv('/content/multichannelhope_test.csv')\n",
        "#test['lables'] = LabelEncoder().fit_transform(test['class'])\n",
        "test['labels'] = test['lables']\n",
        "test = test.drop(columns=['Unnamed: 0', 'lables'])\n",
        "test.head(10)"
      ],
      "execution_count": null,
      "outputs": [
        {
          "output_type": "execute_result",
          "data": {
            "text/html": [
              "<div>\n",
              "<style scoped>\n",
              "    .dataframe tbody tr th:only-of-type {\n",
              "        vertical-align: middle;\n",
              "    }\n",
              "\n",
              "    .dataframe tbody tr th {\n",
              "        vertical-align: top;\n",
              "    }\n",
              "\n",
              "    .dataframe thead th {\n",
              "        text-align: right;\n",
              "    }\n",
              "</style>\n",
              "<table border=\"1\" class=\"dataframe\">\n",
              "  <thead>\n",
              "    <tr style=\"text-align: right;\">\n",
              "      <th></th>\n",
              "      <th>sentence</th>\n",
              "      <th>translation</th>\n",
              "      <th>labels</th>\n",
              "    </tr>\n",
              "  </thead>\n",
              "  <tbody>\n",
              "    <tr>\n",
              "      <th>0</th>\n",
              "      <td>Ban tik tok</td>\n",
              "      <td>Ban tik tok</td>\n",
              "      <td>1</td>\n",
              "    </tr>\n",
              "    <tr>\n",
              "      <th>1</th>\n",
              "      <td>Avara desha dalli erodu aethu....nnHagadre Nam...</td>\n",
              "      <td>Avara desha dalli erodu aethu....nnHagadre Nam...</td>\n",
              "      <td>1</td>\n",
              "    </tr>\n",
              "    <tr>\n",
              "      <th>2</th>\n",
              "      <td>Game name  bro</td>\n",
              "      <td>Game name  bro</td>\n",
              "      <td>1</td>\n",
              "    </tr>\n",
              "    <tr>\n",
              "      <th>3</th>\n",
              "      <td>ದಿಯಾ ಚಲನಚಿತ್ರ ತುಂಬಾನೇ ಚೆನ್ನಾಗಿದೆ. ಸ್ವಲ್ಪ ಪ್ರಚಾ...</td>\n",
              "      <td>ದಿಯಾ ಚಲನಚಿತ್ರ ತುಂಬಾನೇ ಚೆನ್ನಾಗಿದೆ. ಸ್ವಲ್ಪ ಪ್ರಚಾ...</td>\n",
              "      <td>0</td>\n",
              "    </tr>\n",
              "    <tr>\n",
              "      <th>4</th>\n",
              "      <td>Nija nija nam manegu bandidda</td>\n",
              "      <td>Nija nija nam manegu bandidda</td>\n",
              "      <td>1</td>\n",
              "    </tr>\n",
              "    <tr>\n",
              "      <th>5</th>\n",
              "      <td>Unlike ಮಾಡಿದವರು ರಶ್ಮಿಕಾ ಅಭಿಮಾನಿಗಳು....</td>\n",
              "      <td>Unlike ಮಾಡಿದವರು ರಶ್ಮಿಕಾ ಅಭಿಮಾನಿಗಳು....</td>\n",
              "      <td>1</td>\n",
              "    </tr>\n",
              "    <tr>\n",
              "      <th>6</th>\n",
              "      <td>ಗುರು ಎಲ್ಲಿದ್ದೆ ಗುರು ಇಷ್ಟು ದಿನ rolling_on_the_f...</td>\n",
              "      <td>ಗುರು ಎಲ್ಲಿದ್ದೆ ಗುರು ಇಷ್ಟು ದಿನ rolling_on_the_f...</td>\n",
              "      <td>0</td>\n",
              "    </tr>\n",
              "    <tr>\n",
              "      <th>7</th>\n",
              "      <td>Supr bro u r video</td>\n",
              "      <td>Supr bro u r video</td>\n",
              "      <td>1</td>\n",
              "    </tr>\n",
              "    <tr>\n",
              "      <th>8</th>\n",
              "      <td>Nanu film nodade ne edict aagiddene</td>\n",
              "      <td>Nanu film nodade ne edict aagiddene</td>\n",
              "      <td>1</td>\n",
              "    </tr>\n",
              "    <tr>\n",
              "      <th>9</th>\n",
              "      <td>Bere level aagi ede..appata kannada haadu...</td>\n",
              "      <td>Bere level aagi ede..appata kannada haadu...</td>\n",
              "      <td>0</td>\n",
              "    </tr>\n",
              "  </tbody>\n",
              "</table>\n",
              "</div>"
            ],
            "text/plain": [
              "                                            sentence  ... labels\n",
              "0                                        Ban tik tok  ...      1\n",
              "1  Avara desha dalli erodu aethu....nnHagadre Nam...  ...      1\n",
              "2                                     Game name  bro  ...      1\n",
              "3  ದಿಯಾ ಚಲನಚಿತ್ರ ತುಂಬಾನೇ ಚೆನ್ನಾಗಿದೆ. ಸ್ವಲ್ಪ ಪ್ರಚಾ...  ...      0\n",
              "4                      Nija nija nam manegu bandidda  ...      1\n",
              "5             Unlike ಮಾಡಿದವರು ರಶ್ಮಿಕಾ ಅಭಿಮಾನಿಗಳು....  ...      1\n",
              "6  ಗುರು ಎಲ್ಲಿದ್ದೆ ಗುರು ಇಷ್ಟು ದಿನ rolling_on_the_f...  ...      0\n",
              "7                                 Supr bro u r video  ...      1\n",
              "8                Nanu film nodade ne edict aagiddene  ...      1\n",
              "9       Bere level aagi ede..appata kannada haadu...  ...      0\n",
              "\n",
              "[10 rows x 3 columns]"
            ]
          },
          "metadata": {
            "tags": []
          },
          "execution_count": 76
        }
      ]
    },
    {
      "cell_type": "code",
      "metadata": {
        "id": "51IkZvmUfVMN"
      },
      "source": [
        "X_train, y_train = train['translation'],train['labels']\n",
        "X_test, y_test = test['translation'], test['labels']"
      ],
      "execution_count": null,
      "outputs": []
    },
    {
      "cell_type": "code",
      "metadata": {
        "id": "IhdImHoa0l80"
      },
      "source": [
        "vectorizer = TfidfVectorizer(min_df=10)\n",
        "X_train = vectorizer.fit_transform(X_train)\n",
        "X_test = vectorizer.transform(X_test) "
      ],
      "execution_count": null,
      "outputs": []
    },
    {
      "cell_type": "code",
      "metadata": {
        "id": "u5xygTfyxdwL"
      },
      "source": [
        "test = pd.read_csv('/content/multichannelhope_test.csv')\n",
        "#test['lables'] = LabelEncoder().fit_transform(test['class'])\n",
        "test['labels'] = test['lables']\n",
        "test = test.drop(columns=['Unnamed: 0', 'lables'])\n",
        "test.head(10)"
      ],
      "execution_count": null,
      "outputs": []
    },
    {
      "cell_type": "markdown",
      "metadata": {
        "id": "fyIK8uu6Ohk0"
      },
      "source": [
        "# Logistic Regression"
      ]
    },
    {
      "cell_type": "code",
      "metadata": {
        "colab": {
          "base_uri": "https://localhost:8080/"
        },
        "id": "waKGMXZy3IGX",
        "outputId": "9c2bad47-1acf-4673-ec0b-5bf99d2e588c"
      },
      "source": [
        "from sklearn.linear_model import LogisticRegression\n",
        "model =  LogisticRegression(penalty=\"l2\", C=0.1)\n",
        "model.fit(X_train, y_train)"
      ],
      "execution_count": null,
      "outputs": [
        {
          "output_type": "execute_result",
          "data": {
            "text/plain": [
              "LogisticRegression(C=0.1, class_weight=None, dual=False, fit_intercept=True,\n",
              "                   intercept_scaling=1, l1_ratio=None, max_iter=100,\n",
              "                   multi_class='auto', n_jobs=None, penalty='l2',\n",
              "                   random_state=None, solver='lbfgs', tol=0.0001, verbose=0,\n",
              "                   warm_start=False)"
            ]
          },
          "metadata": {
            "tags": []
          },
          "execution_count": 93
        }
      ]
    },
    {
      "cell_type": "code",
      "metadata": {
        "colab": {
          "base_uri": "https://localhost:8080/"
        },
        "id": "YXGJporl3fCz",
        "outputId": "d2767316-2ccd-4b98-fe84-fd3c429f3691"
      },
      "source": [
        "y_pred = model.predict(X_test)\n",
        "from sklearn.metrics import classification_report, confusion_matrix, accuracy_score\n",
        "\n",
        "print(confusion_matrix(y_test,y_pred))\n",
        "print(classification_report(y_test,y_pred,digits=3))\n",
        "print(accuracy_score(y_test, y_pred))"
      ],
      "execution_count": null,
      "outputs": [
        {
          "output_type": "stream",
          "text": [
            "[[ 54 174]\n",
            " [ 14 376]]\n",
            "              precision    recall  f1-score   support\n",
            "\n",
            "           0      0.794     0.237     0.365       228\n",
            "           1      0.684     0.964     0.800       390\n",
            "\n",
            "    accuracy                          0.696       618\n",
            "   macro avg      0.739     0.600     0.582       618\n",
            "weighted avg      0.724     0.696     0.639       618\n",
            "\n",
            "0.6957928802588996\n"
          ],
          "name": "stdout"
        }
      ]
    },
    {
      "cell_type": "markdown",
      "metadata": {
        "id": "W1gTnly1OnD3"
      },
      "source": [
        "# KNN"
      ]
    },
    {
      "cell_type": "code",
      "metadata": {
        "colab": {
          "base_uri": "https://localhost:8080/"
        },
        "id": "1iLpTy_FNMwe",
        "outputId": "1feee2ae-3205-4a95-809b-c115bf51ad90"
      },
      "source": [
        "from sklearn.neighbors import KNeighborsClassifier\n",
        "model = KNeighborsClassifier(n_neighbors=7)\n",
        "model.fit(X_train,y_train)"
      ],
      "execution_count": null,
      "outputs": [
        {
          "output_type": "execute_result",
          "data": {
            "text/plain": [
              "KNeighborsClassifier(algorithm='auto', leaf_size=30, metric='minkowski',\n",
              "                     metric_params=None, n_jobs=None, n_neighbors=7, p=2,\n",
              "                     weights='uniform')"
            ]
          },
          "metadata": {
            "tags": []
          },
          "execution_count": 95
        }
      ]
    },
    {
      "cell_type": "code",
      "metadata": {
        "colab": {
          "base_uri": "https://localhost:8080/"
        },
        "id": "02qVjcuRPbdo",
        "outputId": "11229779-8a26-4cfd-c8f4-3ea5c5876ee4"
      },
      "source": [
        "y_pred = model.predict(X_test)\n",
        "from sklearn.metrics import classification_report, confusion_matrix, accuracy_score\n",
        "\n",
        "print(confusion_matrix(y_test,y_pred))\n",
        "print(classification_report(y_test,y_pred,digits=3))\n",
        "print(accuracy_score(y_test, y_pred))"
      ],
      "execution_count": null,
      "outputs": [
        {
          "output_type": "stream",
          "text": [
            "[[ 92 136]\n",
            " [ 43 347]]\n",
            "              precision    recall  f1-score   support\n",
            "\n",
            "           0      0.681     0.404     0.507       228\n",
            "           1      0.718     0.890     0.795       390\n",
            "\n",
            "    accuracy                          0.710       618\n",
            "   macro avg      0.700     0.647     0.651       618\n",
            "weighted avg      0.705     0.710     0.689       618\n",
            "\n",
            "0.7103559870550162\n"
          ],
          "name": "stdout"
        }
      ]
    },
    {
      "cell_type": "markdown",
      "metadata": {
        "id": "D7kdg6jPQCHx"
      },
      "source": [
        "# Decision Tree"
      ]
    },
    {
      "cell_type": "code",
      "metadata": {
        "colab": {
          "base_uri": "https://localhost:8080/"
        },
        "id": "Z9NPfqwbPfLt",
        "outputId": "fbc054ef-3e03-4cc4-d382-6cf1ae751a70"
      },
      "source": [
        "from sklearn.tree import DecisionTreeClassifier\n",
        "model = DecisionTreeClassifier(min_samples_split=2)\n",
        "model.fit(X_train,y_train)"
      ],
      "execution_count": null,
      "outputs": [
        {
          "output_type": "execute_result",
          "data": {
            "text/plain": [
              "DecisionTreeClassifier(ccp_alpha=0.0, class_weight=None, criterion='gini',\n",
              "                       max_depth=None, max_features=None, max_leaf_nodes=None,\n",
              "                       min_impurity_decrease=0.0, min_impurity_split=None,\n",
              "                       min_samples_leaf=1, min_samples_split=2,\n",
              "                       min_weight_fraction_leaf=0.0, presort='deprecated',\n",
              "                       random_state=None, splitter='best')"
            ]
          },
          "metadata": {
            "tags": []
          },
          "execution_count": 97
        }
      ]
    },
    {
      "cell_type": "code",
      "metadata": {
        "colab": {
          "base_uri": "https://localhost:8080/"
        },
        "id": "om2oI0U-Q3u5",
        "outputId": "180b9277-7229-4bbd-caee-e80558e64e4d"
      },
      "source": [
        "y_pred = model.predict(X_test)\n",
        "from sklearn.metrics import classification_report, confusion_matrix, accuracy_score\n",
        "\n",
        "print(confusion_matrix(y_test,y_pred))\n",
        "print(classification_report(y_test,y_pred,digits=3))\n",
        "print(accuracy_score(y_test, y_pred))"
      ],
      "execution_count": null,
      "outputs": [
        {
          "output_type": "stream",
          "text": [
            "[[113 115]\n",
            " [ 79 311]]\n",
            "              precision    recall  f1-score   support\n",
            "\n",
            "           0      0.589     0.496     0.538       228\n",
            "           1      0.730     0.797     0.762       390\n",
            "\n",
            "    accuracy                          0.686       618\n",
            "   macro avg      0.659     0.647     0.650       618\n",
            "weighted avg      0.678     0.686     0.680       618\n",
            "\n",
            "0.686084142394822\n"
          ],
          "name": "stdout"
        }
      ]
    },
    {
      "cell_type": "markdown",
      "metadata": {
        "id": "3GI-JibYRdOM"
      },
      "source": [
        "# Random Forest\n"
      ]
    },
    {
      "cell_type": "code",
      "metadata": {
        "colab": {
          "base_uri": "https://localhost:8080/"
        },
        "id": "Vh57JpQiQ9lG",
        "outputId": "5862e7af-d3c2-4bb7-e051-3b704fa4380f"
      },
      "source": [
        "from sklearn.ensemble import RandomForestClassifier\n",
        "#y_train = offensive['class'].values\n",
        "text_classifier = RandomForestClassifier()\n",
        "text_classifier.fit(X_train, y_train)"
      ],
      "execution_count": null,
      "outputs": [
        {
          "output_type": "execute_result",
          "data": {
            "text/plain": [
              "RandomForestClassifier(bootstrap=True, ccp_alpha=0.0, class_weight=None,\n",
              "                       criterion='gini', max_depth=None, max_features='auto',\n",
              "                       max_leaf_nodes=None, max_samples=None,\n",
              "                       min_impurity_decrease=0.0, min_impurity_split=None,\n",
              "                       min_samples_leaf=1, min_samples_split=2,\n",
              "                       min_weight_fraction_leaf=0.0, n_estimators=100,\n",
              "                       n_jobs=None, oob_score=False, random_state=None,\n",
              "                       verbose=0, warm_start=False)"
            ]
          },
          "metadata": {
            "tags": []
          },
          "execution_count": 99
        }
      ]
    },
    {
      "cell_type": "code",
      "metadata": {
        "colab": {
          "base_uri": "https://localhost:8080/"
        },
        "id": "EEltTJucUVYp",
        "outputId": "87f779fa-2872-4e9e-d0c2-cdaf63e49adb"
      },
      "source": [
        "y_pred = text_classifier.predict(X_test)\n",
        "from sklearn.metrics import classification_report, confusion_matrix, accuracy_score\n",
        "\n",
        "print(confusion_matrix(y_test,y_pred))\n",
        "print(classification_report(y_test,y_pred,digits=3))\n",
        "print(accuracy_score(y_test, y_pred))"
      ],
      "execution_count": null,
      "outputs": [
        {
          "output_type": "stream",
          "text": [
            "[[111 117]\n",
            " [ 53 337]]\n",
            "              precision    recall  f1-score   support\n",
            "\n",
            "           0      0.677     0.487     0.566       228\n",
            "           1      0.742     0.864     0.799       390\n",
            "\n",
            "    accuracy                          0.725       618\n",
            "   macro avg      0.710     0.675     0.682       618\n",
            "weighted avg      0.718     0.725     0.713       618\n",
            "\n",
            "0.7249190938511327\n"
          ],
          "name": "stdout"
        }
      ]
    },
    {
      "cell_type": "code",
      "metadata": {
        "colab": {
          "base_uri": "https://localhost:8080/"
        },
        "id": "gRZsCQ_nRjln",
        "outputId": "f8047c7c-934d-455d-f439-0614f890584a"
      },
      "source": [
        "y_pred = text_classifier.predict(X_test)\n",
        "from sklearn.metrics import classification_report, confusion_matrix, accuracy_score\n",
        "\n",
        "print(confusion_matrix(y_test,y_pred))\n",
        "print(classification_report(y_test,y_pred,digits=3))\n",
        "print(accuracy_score(y_test, y_pred))"
      ],
      "execution_count": null,
      "outputs": [
        {
          "output_type": "stream",
          "text": [
            "[[107 121]\n",
            " [ 52 338]]\n",
            "              precision    recall  f1-score   support\n",
            "\n",
            "           0      0.673     0.469     0.553       228\n",
            "           1      0.736     0.867     0.796       390\n",
            "\n",
            "    accuracy                          0.720       618\n",
            "   macro avg      0.705     0.668     0.675       618\n",
            "weighted avg      0.713     0.720     0.706       618\n",
            "\n",
            "0.7200647249190939\n"
          ],
          "name": "stdout"
        }
      ]
    },
    {
      "cell_type": "markdown",
      "metadata": {
        "id": "4cHbUuUPR4hH"
      },
      "source": [
        "# Naive Bayes\n"
      ]
    },
    {
      "cell_type": "code",
      "metadata": {
        "colab": {
          "base_uri": "https://localhost:8080/"
        },
        "id": "vuMY6megRkQO",
        "outputId": "eab121c0-a895-4d0c-f90d-d887092d00af"
      },
      "source": [
        "from sklearn.naive_bayes import MultinomialNB\n",
        "model = MultinomialNB()\n",
        "model.fit(X_train,y_train)"
      ],
      "execution_count": null,
      "outputs": [
        {
          "output_type": "execute_result",
          "data": {
            "text/plain": [
              "MultinomialNB(alpha=1.0, class_prior=None, fit_prior=True)"
            ]
          },
          "metadata": {
            "tags": []
          },
          "execution_count": 101
        }
      ]
    },
    {
      "cell_type": "code",
      "metadata": {
        "colab": {
          "base_uri": "https://localhost:8080/"
        },
        "id": "Zei_LlmXS7LJ",
        "outputId": "b3385e08-ae61-440c-e38f-a71608be1e36"
      },
      "source": [
        "y_pred = model.predict(X_test)\n",
        "from sklearn.metrics import classification_report, confusion_matrix, accuracy_score\n",
        "\n",
        "print(confusion_matrix(y_test,y_pred))\n",
        "print(classification_report(y_test,y_pred,digits=3))\n",
        "print(accuracy_score(y_test, y_pred))"
      ],
      "execution_count": null,
      "outputs": [
        {
          "output_type": "stream",
          "text": [
            "[[ 93 135]\n",
            " [ 45 345]]\n",
            "              precision    recall  f1-score   support\n",
            "\n",
            "           0      0.674     0.408     0.508       228\n",
            "           1      0.719     0.885     0.793       390\n",
            "\n",
            "    accuracy                          0.709       618\n",
            "   macro avg      0.696     0.646     0.651       618\n",
            "weighted avg      0.702     0.709     0.688       618\n",
            "\n",
            "0.7087378640776699\n"
          ],
          "name": "stdout"
        }
      ]
    },
    {
      "cell_type": "markdown",
      "metadata": {
        "id": "pP0laRWiTsXa"
      },
      "source": [
        "# SVM "
      ]
    },
    {
      "cell_type": "code",
      "metadata": {
        "colab": {
          "base_uri": "https://localhost:8080/"
        },
        "id": "KjmIr5sGS-yX",
        "outputId": "be4a0778-0ed7-4a1a-faf9-06394cc1f457"
      },
      "source": [
        "from sklearn.svm import LinearSVC\n",
        "model = LinearSVC()\n",
        "model.fit(X_train,y_train)\n",
        "y_pred = model.predict(X_test)\n",
        "from sklearn.metrics import classification_report, confusion_matrix, accuracy_score\n",
        "\n",
        "print(confusion_matrix(y_test,y_pred))\n",
        "print(classification_report(y_test,y_pred,digits=3))\n",
        "print(accuracy_score(y_test, y_pred))"
      ],
      "execution_count": null,
      "outputs": [
        {
          "output_type": "stream",
          "text": [
            "[[116 112]\n",
            " [ 57 333]]\n",
            "              precision    recall  f1-score   support\n",
            "\n",
            "           0      0.671     0.509     0.579       228\n",
            "           1      0.748     0.854     0.798       390\n",
            "\n",
            "    accuracy                          0.727       618\n",
            "   macro avg      0.709     0.681     0.688       618\n",
            "weighted avg      0.720     0.727     0.717       618\n",
            "\n",
            "0.7265372168284789\n"
          ],
          "name": "stdout"
        }
      ]
    },
    {
      "cell_type": "code",
      "metadata": {
        "id": "VnQbf7lYUq-h",
        "colab": {
          "base_uri": "https://localhost:8080/"
        },
        "outputId": "a728447b-f737-4776-831a-6e33fc1bb381"
      },
      "source": [
        "from sklearn.svm import LinearSVC\n",
        "model = LinearSVC()\n",
        "model.fit(X_train,y_train)\n",
        "y_pred = model.predict(X_test)\n",
        "from sklearn.metrics import classification_report, confusion_matrix, accuracy_score\n",
        "\n",
        "print(confusion_matrix(y_test,y_pred))\n",
        "print(classification_report(y_test,y_pred,digits=3))\n",
        "print(accuracy_score(y_test, y_pred))"
      ],
      "execution_count": null,
      "outputs": [
        {
          "output_type": "stream",
          "text": [
            "[[116 112]\n",
            " [ 57 333]]\n",
            "              precision    recall  f1-score   support\n",
            "\n",
            "           0      0.671     0.509     0.579       228\n",
            "           1      0.748     0.854     0.798       390\n",
            "\n",
            "    accuracy                          0.727       618\n",
            "   macro avg      0.709     0.681     0.688       618\n",
            "weighted avg      0.720     0.727     0.717       618\n",
            "\n",
            "0.7265372168284789\n"
          ],
          "name": "stdout"
        }
      ]
    },
    {
      "cell_type": "code",
      "metadata": {
        "id": "Cu3ozxAZUa-n"
      },
      "source": [
        ""
      ],
      "execution_count": null,
      "outputs": []
    }
  ]
}